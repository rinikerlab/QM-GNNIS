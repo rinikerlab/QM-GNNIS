{
 "cells": [
  {
   "cell_type": "code",
   "execution_count": 1,
   "metadata": {},
   "outputs": [],
   "source": [
    "from rdkit import Chem\n",
    "from rdkit.Chem import AllChem"
   ]
  },
  {
   "cell_type": "code",
   "execution_count": 2,
   "metadata": {},
   "outputs": [],
   "source": [
    "smiles = \"COCCO\"\n",
    "mol = Chem.MolFromSmiles(smiles)\n",
    "mol = Chem.AddHs(mol)\n",
    "AllChem.EmbedMultipleConfs(mol, numConfs=256, randomSeed=42, useExpTorsionAnglePrefs=False, useBasicKnowledge=True)\n",
    "\n",
    "with open(\"COCCO_conformers.sdf\", \"w\") as f:\n",
    "    writer = Chem.SDWriter(f)\n",
    "    for conf in mol.GetConformers():\n",
    "        writer.write(mol, confId=conf.GetId())"
   ]
  },
  {
   "cell_type": "code",
   "execution_count": 2,
   "metadata": {},
   "outputs": [],
   "source": [
    "smiles = \"COCCOC\"\n",
    "mol = Chem.MolFromSmiles(smiles)\n",
    "mol = Chem.AddHs(mol)\n",
    "AllChem.EmbedMultipleConfs(mol, numConfs=256, randomSeed=42, useExpTorsionAnglePrefs=False, useBasicKnowledge=True)\n",
    "\n",
    "with open(\"COCCOC_conformers.sdf\", \"w\") as f:\n",
    "    writer = Chem.SDWriter(f)\n",
    "    for conf in mol.GetConformers():\n",
    "        writer.write(mol, confId=conf.GetId())"
   ]
  },
  {
   "cell_type": "code",
   "execution_count": 10,
   "metadata": {},
   "outputs": [
    {
     "data": {
      "image/png": "[encoded data removed]",
      "text/plain": [
       "<rdkit.Chem.rdchem.Mol at 0x7ccdc2b484a0>"
      ]
     },
     "execution_count": 10,
     "metadata": {},
     "output_type": "execute_result"
    }
   ],
   "source": [
    "mol = Chem.SDMolSupplier(\"COCCO_conformers.sdf\", removeHs=False)[0]\n",
    "mol"
   ]
  }
 ],
 "metadata": {
  "kernelspec": {
   "display_name": "QMGNN",
   "language": "python",
   "name": "python3"
  },
  "language_info": {
   "codemirror_mode": {
    "name": "ipython",
    "version": 3
   },
   "file_extension": ".py",
   "mimetype": "text/x-python",
   "name": "python",
   "nbconvert_exporter": "python",
   "pygments_lexer": "ipython3",
   "version": "3.10.9"
  }
 },
 "nbformat": 4,
 "nbformat_minor": 2
}
