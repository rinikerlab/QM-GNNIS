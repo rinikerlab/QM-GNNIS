{
 "cells": [
  {
   "cell_type": "code",
   "execution_count": 4,
   "id": "b01c0d10",
   "metadata": {},
   "outputs": [],
   "source": [
    "import logging\n",
    "from implicitml.calculator import ImplicitSolventCalculator, Solvent, Functional, BasisSet, SolventModel, logger\n",
    "from implicitml.model import TinyModel\n",
    "from implicitml.util import embedMolecule\n",
    "from GNNImplicitSolvent import create_gnn_model, GNN3_Multisolvent_embedding_run_multiple_Delta, minimize_mol\n",
    "from rdkit import Chem\n",
    "from rdkit.Chem import AllChem\n",
    "from Simulation.helper_functions import MODEL_PATH"
   ]
  },
  {
   "cell_type": "code",
   "execution_count": 5,
   "id": "e4de6d63",
   "metadata": {},
   "outputs": [
    {
     "name": "stdout",
     "output_type": "stream",
     "text": [
      "                         Program Version 6.0.0  -   RELEASE  -\n"
     ]
    }
   ],
   "source": [
    "import subprocess\n",
    "result = subprocess.run(['orca', 'test.inp'], stdout=subprocess.PIPE, stderr=subprocess.PIPE)\n",
    "lines = result.stdout.decode(\"utf-8\")\n",
    "for line in lines.split(\"\\n\"):\n",
    "    if \"Program\" in line:\n",
    "        print(line) \n"
   ]
  },
  {
   "cell_type": "code",
   "execution_count": 6,
   "id": "eefe8f37",
   "metadata": {},
   "outputs": [
    {
     "data": {
      "text/plain": [
       "0"
      ]
     },
     "execution_count": 6,
     "metadata": {},
     "output_type": "execute_result"
    }
   ],
   "source": [
    "smiles = \"COCCO\"\n",
    "from rdkit import Chem\n",
    "from rdkit.Chem import AllChem\n",
    "mol = Chem.MolFromSmiles(smiles)\n",
    "mol = Chem.AddHs(mol)\n",
    "AllChem.EmbedMolecule(mol,randomSeed=42)"
   ]
  },
  {
   "cell_type": "markdown",
   "id": "a64f1e65",
   "metadata": {},
   "source": [
    "## Run an ORCA optimization in water"
   ]
  },
  {
   "cell_type": "code",
   "execution_count": 7,
   "id": "04853316",
   "metadata": {},
   "outputs": [],
   "source": [
    "calc = ImplicitSolventCalculator(Chem.Mol(mol))\n",
    "calc.optimize_orca(Solvent.WATER, Functional.BP86, BasisSet.def2_SVP, SolventModel.SMD, nprocs=1, maxcore=4096)"
   ]
  },
  {
   "cell_type": "markdown",
   "id": "0cc5cdd9",
   "metadata": {},
   "source": [
    "## Calculate single point energy of optimized geometry in water"
   ]
  },
  {
   "cell_type": "code",
   "execution_count": 8,
   "id": "4328307b",
   "metadata": {},
   "outputs": [
    {
     "name": "stdout",
     "output_type": "stream",
     "text": [
      "-707234.0525001661\n"
     ]
    }
   ],
   "source": [
    "calc.singlepoint(Solvent.WATER, Functional.BP86, BasisSet.def2_SVP, SolventModel.SMD, nprocs=1, maxcore=4096)\n",
    "print(calc.electronic_energy)"
   ]
  },
  {
   "cell_type": "markdown",
   "id": "2dd1eb06",
   "metadata": {},
   "source": [
    "## Get the optimized molecule"
   ]
  },
  {
   "cell_type": "code",
   "execution_count": 9,
   "id": "62346a4b",
   "metadata": {},
   "outputs": [
    {
     "data": {
      "image/png": "[encoded data removed]",
      "text/plain": [
       "<rdkit.Chem.rdchem.Mol at 0x726ad1cbc590>"
      ]
     },
     "execution_count": 9,
     "metadata": {},
     "output_type": "execute_result"
    }
   ],
   "source": [
    "calc.molecule"
   ]
  },
  {
   "cell_type": "markdown",
   "id": "2ad120e1",
   "metadata": {},
   "source": [
    "## Calculate openCOSMO-RS free energy"
   ]
  },
  {
   "cell_type": "code",
   "execution_count": 10,
   "id": "500f9e2d",
   "metadata": {},
   "outputs": [
    {
     "name": "stdout",
     "output_type": "stream",
     "text": [
      "-707021.6053864663\n"
     ]
    }
   ],
   "source": [
    "calc.calculate_gibbs_free_energy(Solvent.WATER, Functional.BP86, BasisSet.def2_SVP, SolventModel.COSMORS, nprocs=1, maxcore=4096)\n",
    "print(calc.gibbs_free_energy)"
   ]
  },
  {
   "cell_type": "markdown",
   "id": "a3f02bdf",
   "metadata": {},
   "source": [
    "## Optimize Structure with QM-GNNIS model"
   ]
  },
  {
   "cell_type": "code",
   "execution_count": 11,
   "id": "e5b65dd5",
   "metadata": {},
   "outputs": [
    {
     "name": "stdout",
     "output_type": "stream",
     "text": [
      "Using OpenFF forcefield: openff-2.0.0\n",
      "using rdkit molecule\n",
      "setting charges based on AM1BCC\n",
      "Calculating TORCH\n",
      "      Step     Time          Energy          fmax\n",
      "BFGS:    0 13:50:06    -7329.917416        0.278222\n",
      "Calculating TORCH\n",
      "BFGS:    1 13:50:11    -7329.919806        0.108929\n",
      "Calculating TORCH\n",
      "BFGS:    2 13:50:15    -7329.920072        0.045829\n",
      "Calculating TORCH\n",
      "BFGS:    3 13:50:20    -7329.920246        0.041485\n",
      "Calculating TORCH\n",
      "BFGS:    4 13:50:24    -7329.920586        0.039328\n",
      "Calculating TORCH\n",
      "BFGS:    5 13:50:29    -7329.920711        0.030288\n",
      "Calculating TORCH\n",
      "BFGS:    6 13:50:34    -7329.920837        0.025407\n",
      "Calculating TORCH\n",
      "BFGS:    7 13:50:38    -7329.920921        0.027579\n",
      "Calculating TORCH\n",
      "BFGS:    8 13:50:43    -7329.920989        0.024771\n"
     ]
    }
   ],
   "source": [
    "model = create_gnn_model(\n",
    "    mol,\n",
    "    solvent=\"tip3p\",\n",
    "    model_class=GNN3_Multisolvent_embedding_run_multiple_Delta,\n",
    "    model_dict=MODEL_PATH,\n",
    "    jit=False,\n",
    ")\n",
    "\n",
    "calc.optimize(Solvent.WATER, Functional.BP86, BasisSet.def2_SVP, SolventModel.CPCM, model=model, nprocs=1, maxcore=4096, fmax=0.025)"
   ]
  },
  {
   "cell_type": "markdown",
   "id": "fee59e38",
   "metadata": {},
   "source": [
    "## Calculate Hessians"
   ]
  },
  {
   "cell_type": "code",
   "execution_count": 12,
   "id": "3ca67e12",
   "metadata": {},
   "outputs": [
    {
     "name": "stdout",
     "output_type": "stream",
     "text": [
      "Calculating TORCH\n",
      "(39, 39)\n"
     ]
    }
   ],
   "source": [
    "calc.calculate_hessian(Solvent.WATER, Functional.BP86, BasisSet.def2_SVP, SolventModel.CPCM, model=model, nprocs=1, maxcore=4096)\n",
    "total_hessian = calc.QM_hessian*96.485332 + calc.GNN_hessian\n",
    "print(total_hessian.shape)"
   ]
  },
  {
   "cell_type": "markdown",
   "id": "0cb87097",
   "metadata": {},
   "source": [
    "## Calculate Vibrational Frequencies"
   ]
  },
  {
   "cell_type": "code",
   "execution_count": 13,
   "id": "9a246a3f",
   "metadata": {},
   "outputs": [],
   "source": [
    "from implicitml.util import normal_modes\n",
    "from Simulation.helper_functions import calculate_entropy_from_frequencies\n",
    "import numpy as np"
   ]
  },
  {
   "cell_type": "code",
   "execution_count": 14,
   "id": "3b2ecd30",
   "metadata": {},
   "outputs": [
    {
     "data": {
      "text/plain": [
       "array([  74.64182565+0.j,  102.57678144+0.j,  215.32203248+0.j,\n",
       "        267.00892009+0.j,  337.87876091+0.j,  383.5771921 +0.j,\n",
       "        533.9938578 +0.j,  820.92450071+0.j,  887.11480731+0.j,\n",
       "       1001.10898256+0.j, 1054.29585599+0.j, 1084.81657967+0.j,\n",
       "       1129.33310218+0.j, 1136.14467864+0.j, 1151.61127226+0.j,\n",
       "       1204.3419524 +0.j, 1218.91148235+0.j, 1323.88397777+0.j,\n",
       "       1337.48539383+0.j, 1379.56114512+0.j, 1386.13355992+0.j,\n",
       "       1397.44810973+0.j, 1412.38221442+0.j, 1414.69020063+0.j,\n",
       "       1439.63168075+0.j, 2989.28329511+0.j, 3116.0350778 +0.j,\n",
       "       3140.990548  +0.j, 3239.41441438+0.j, 3272.94754611+0.j,\n",
       "       3316.01275895+0.j, 3340.11329304+0.j, 3662.88230932+0.j])"
      ]
     },
     "execution_count": 14,
     "metadata": {},
     "output_type": "execute_result"
    }
   ],
   "source": [
    "masses = np.array([atom.GetMass() for atom in calc.molecule.GetAtoms()]).round(0)\n",
    "indices = [atom.GetIdx() for atom in calc.molecule.GetAtoms()]\n",
    "freqs, modes = normal_modes(total_hessian, indices,masses)\n",
    "\n",
    "freqs"
   ]
  },
  {
   "cell_type": "markdown",
   "id": "2bb2c912",
   "metadata": {},
   "source": [
    "## Calculate free energy of QM-GNNIS model"
   ]
  },
  {
   "cell_type": "code",
   "execution_count": 15,
   "id": "aa49e55d",
   "metadata": {},
   "outputs": [
    {
     "name": "stdout",
     "output_type": "stream",
     "text": [
      "Calculating TORCH\n"
     ]
    },
    {
     "data": {
      "text/plain": [
       "-707247.432606336909"
      ]
     },
     "execution_count": 15,
     "metadata": {},
     "output_type": "execute_result"
    }
   ],
   "source": [
    "entropy = calculate_entropy_from_frequencies(freqs)\n",
    "calc.singlepoint(Solvent.WATER, Functional.BP86, BasisSet.def2_SVP, SolventModel.CPCM, model=model, nprocs=1, maxcore=4096)\n",
    "energy = calc.electronic_energy\n",
    "gibbs_free_energy = energy - entropy\n",
    "gibbs_free_energy"
   ]
  }
 ],
 "metadata": {
  "kernelspec": {
   "display_name": "QMGNN_test",
   "language": "python",
   "name": "python3"
  },
  "language_info": {
   "codemirror_mode": {
    "name": "ipython",
    "version": 3
   },
   "file_extension": ".py",
   "mimetype": "text/x-python",
   "name": "python",
   "nbconvert_exporter": "python",
   "pygments_lexer": "ipython3",
   "version": "3.10.9"
  }
 },
 "nbformat": 4,
 "nbformat_minor": 5
}
